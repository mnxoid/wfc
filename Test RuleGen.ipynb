{
 "cells": [
  {
   "cell_type": "code",
   "execution_count": 1,
   "metadata": {},
   "outputs": [],
   "source": [
    "import pygame\n",
    "\n",
    "import numpy as np\n",
    "from matplotlib import pyplot as plt\n",
    "%matplotlib inline"
   ]
  },
  {
   "cell_type": "code",
   "execution_count": 2,
   "metadata": {},
   "outputs": [],
   "source": [
    "def load_image(path, mode=\"numpy\"):\n",
    "    img = pygame.image.load(path)\n",
    "    if mode==\"numpy\":\n",
    "        img_data = np.array(pygame.surfarray.array3d(img), np.uint8).transpose(1,0,2)\n",
    "        return img_data\n",
    "    elif mode==\"pygame\":\n",
    "        return img"
   ]
  },
  {
   "cell_type": "code",
   "execution_count": 32,
   "metadata": {},
   "outputs": [],
   "source": [
    "def show_image(img_data, tile_size=16, manual=False):\n",
    "    if not manual:\n",
    "        plt.figure()\n",
    "    plt.imshow(img_data)\n",
    "\n",
    "    ax = plt.gca()\n",
    "    ax.set_xticks(np.arange(-0.5, img_data.shape[1], tile_size), minor=True)\n",
    "    ax.set_yticks(np.arange(-0.5, img_data.shape[0], tile_size), minor=True)\n",
    "    ax.grid(which='minor', color='gray', linestyle='--', linewidth=2)"
   ]
  },
  {
   "cell_type": "code",
   "execution_count": 4,
   "metadata": {},
   "outputs": [
    {
     "data": {
      "image/png": "[encoded data removed]",
      "text/plain": [
       "<Figure size 432x288 with 1 Axes>"
      ]
     },
     "metadata": {},
     "output_type": "display_data"
    }
   ],
   "source": [
    "source = load_image(\"data/wfc_tiles/source.png\")\n",
    "show_image(source)"
   ]
  },
  {
   "cell_type": "code",
   "execution_count": 5,
   "metadata": {},
   "outputs": [
    {
     "data": {
      "image/png": "[encoded data removed]",
      "text/plain": [
       "<Figure size 432x288 with 1 Axes>"
      ]
     },
     "metadata": {},
     "output_type": "display_data"
    }
   ],
   "source": [
    "show_image(source[16:31,16:31,:])"
   ]
  },
  {
   "cell_type": "code",
   "execution_count": 6,
   "metadata": {},
   "outputs": [],
   "source": [
    "def tileset(img, tile_size=16):\n",
    "    return (lambda x,y: img[y*tile_size:(y+1)*tile_size,x*tile_size:(x+1)*tile_size,:])"
   ]
  },
  {
   "cell_type": "code",
   "execution_count": 7,
   "metadata": {},
   "outputs": [],
   "source": [
    "tls = tileset(source)"
   ]
  },
  {
   "cell_type": "code",
   "execution_count": 8,
   "metadata": {},
   "outputs": [
    {
     "data": {
      "image/png": "[encoded data removed]",
      "text/plain": [
       "<Figure size 432x288 with 1 Axes>"
      ]
     },
     "metadata": {},
     "output_type": "display_data"
    },
    {
     "data": {
      "image/png": "[encoded data removed]",
      "text/plain": [
       "<Figure size 432x288 with 1 Axes>"
      ]
     },
     "metadata": {},
     "output_type": "display_data"
    }
   ],
   "source": [
    "show_image(tls(3,2))\n",
    "show_image(tls(3,3))"
   ]
  },
  {
   "cell_type": "code",
   "execution_count": 9,
   "metadata": {},
   "outputs": [
    {
     "name": "stdout",
     "output_type": "stream",
     "text": [
      "717 ns ± 16.4 ns per loop (mean ± std. dev. of 7 runs, 1000000 loops each)\n"
     ]
    }
   ],
   "source": [
    "%timeit hash(str(source.data))"
   ]
  },
  {
   "cell_type": "code",
   "execution_count": 10,
   "metadata": {},
   "outputs": [],
   "source": [
    "def allRots(img):\n",
    "    return [\n",
    "        img,\n",
    "        np.rot90(img,1),\n",
    "        np.rot90(img,2),\n",
    "        np.rot90(img,3)\n",
    "    ]"
   ]
  },
  {
   "cell_type": "code",
   "execution_count": 11,
   "metadata": {},
   "outputs": [],
   "source": [
    "def allHashes(img):\n",
    "    return [ hash(str(x)) for x in allRots(img) ]"
   ]
  },
  {
   "cell_type": "code",
   "execution_count": 12,
   "metadata": {},
   "outputs": [
    {
     "name": "stdout",
     "output_type": "stream",
     "text": [
      "6.32 ms ± 88.5 µs per loop (mean ± std. dev. of 7 runs, 100 loops each)\n"
     ]
    },
    {
     "data": {
      "image/png": "[encoded data removed]",
      "text/plain": [
       "<Figure size 432x288 with 1 Axes>"
      ]
     },
     "metadata": {},
     "output_type": "display_data"
    }
   ],
   "source": [
    "show_image(tls(3,3))\n",
    "%timeit allHashes(tls(3,3))"
   ]
  },
  {
   "cell_type": "code",
   "execution_count": 13,
   "metadata": {
    "scrolled": false
   },
   "outputs": [
    {
     "name": "stdout",
     "output_type": "stream",
     "text": [
      "Coords: 0 0\n",
      "[-6749031487723130569, -6749031487723130569, -6749031487723130569, -6749031487723130569]\n",
      "Coords: 1 0\n",
      "[-6749031487723130569, -6749031487723130569, -6749031487723130569, -6749031487723130569]\n",
      "Coords: 2 0\n",
      "[-6749031487723130569, -6749031487723130569, -6749031487723130569, -6749031487723130569]\n",
      "Coords: 3 0\n",
      "[-6749031487723130569, -6749031487723130569, -6749031487723130569, -6749031487723130569]\n",
      "Coords: 4 0\n",
      "[-6749031487723130569, -6749031487723130569, -6749031487723130569, -6749031487723130569]\n",
      "Coords: 5 0\n",
      "[-6749031487723130569, -6749031487723130569, -6749031487723130569, -6749031487723130569]\n",
      "Coords: 6 0\n",
      "[-6749031487723130569, -6749031487723130569, -6749031487723130569, -6749031487723130569]\n",
      "Coords: 7 0\n",
      "[-6749031487723130569, -6749031487723130569, -6749031487723130569, -6749031487723130569]\n",
      "Coords: 0 1\n",
      "[-6749031487723130569, -6749031487723130569, -6749031487723130569, -6749031487723130569]\n",
      "Coords: 1 1\n",
      "[-3057123862777643467, 6720542279150176894, -9062865736373944103, -475896416189872571]\n",
      "Coords: 2 1\n",
      "[3603687201464281774, -5986465870727339544, 7239681425407305703, 173614890272686441]\n",
      "Coords: 3 1\n",
      "[3603687201464281774, -5986465870727339544, 7239681425407305703, 173614890272686441]\n",
      "Coords: 4 1\n",
      "[3603687201464281774, -5986465870727339544, 7239681425407305703, 173614890272686441]\n",
      "Coords: 5 1\n",
      "[-475896416189872571, -3057123862777643467, 6720542279150176894, -9062865736373944103]\n",
      "Coords: 6 1\n",
      "[-6749031487723130569, -6749031487723130569, -6749031487723130569, -6749031487723130569]\n",
      "Coords: 7 1\n",
      "[-6749031487723130569, -6749031487723130569, -6749031487723130569, -6749031487723130569]\n",
      "Coords: 0 2\n",
      "[-6749031487723130569, -6749031487723130569, -6749031487723130569, -6749031487723130569]\n",
      "Coords: 1 2\n",
      "[6720542279150176894, -9062865736373944103, -475896416189872571, -3057123862777643467]\n",
      "Coords: 2 2\n",
      "[7239681425407305703, 173614890272686441, 3603687201464281774, -5986465870727339544]\n",
      "Coords: 3 2\n",
      "[-2138353569917513492, 1905920702728397196, 4369543295720075614, 279092378455277833]\n",
      "Coords: 4 2\n",
      "[1905920702728397196, 4369543295720075614, 279092378455277833, -2138353569917513492]\n",
      "Coords: 5 2\n",
      "[-9062865736373944103, -475896416189872571, -3057123862777643467, 6720542279150176894]\n",
      "Coords: 6 2\n",
      "[-6749031487723130569, -6749031487723130569, -6749031487723130569, -6749031487723130569]\n",
      "Coords: 7 2\n",
      "[-6749031487723130569, -6749031487723130569, -6749031487723130569, -6749031487723130569]\n",
      "Coords: 0 3\n",
      "[-6749031487723130569, -6749031487723130569, -6749031487723130569, -6749031487723130569]\n",
      "Coords: 1 3\n",
      "[-6749031487723130569, -6749031487723130569, -6749031487723130569, -6749031487723130569]\n",
      "Coords: 2 3\n",
      "[-6749031487723130569, -6749031487723130569, -6749031487723130569, -6749031487723130569]\n",
      "Coords: 3 3\n",
      "[6720542279150176894, -9062865736373944103, -475896416189872571, -3057123862777643467]\n",
      "Coords: 4 3\n",
      "[-9062865736373944103, -475896416189872571, -3057123862777643467, 6720542279150176894]\n",
      "Coords: 5 3\n",
      "[-6749031487723130569, -6749031487723130569, -6749031487723130569, -6749031487723130569]\n",
      "Coords: 6 3\n",
      "[-6749031487723130569, -6749031487723130569, -6749031487723130569, -6749031487723130569]\n",
      "Coords: 7 3\n",
      "[-6749031487723130569, -6749031487723130569, -6749031487723130569, -6749031487723130569]\n",
      "Coords: 0 4\n",
      "[-6749031487723130569, -6749031487723130569, -6749031487723130569, -6749031487723130569]\n",
      "Coords: 1 4\n",
      "[-6749031487723130569, -6749031487723130569, -6749031487723130569, -6749031487723130569]\n",
      "Coords: 2 4\n",
      "[-6749031487723130569, -6749031487723130569, -6749031487723130569, -6749031487723130569]\n",
      "Coords: 3 4\n",
      "[-6749031487723130569, -6749031487723130569, -6749031487723130569, -6749031487723130569]\n",
      "Coords: 4 4\n",
      "[-6749031487723130569, -6749031487723130569, -6749031487723130569, -6749031487723130569]\n",
      "Coords: 5 4\n",
      "[-3057123862777643467, 6720542279150176894, -9062865736373944103, -475896416189872571]\n",
      "Coords: 6 4\n",
      "[3603687201464281774, -5986465870727339544, 7239681425407305703, 173614890272686441]\n",
      "Coords: 7 4\n",
      "[-475896416189872571, -3057123862777643467, 6720542279150176894, -9062865736373944103]\n",
      "Coords: 0 5\n",
      "[-6749031487723130569, -6749031487723130569, -6749031487723130569, -6749031487723130569]\n",
      "Coords: 1 5\n",
      "[-3057123862777643467, 6720542279150176894, -9062865736373944103, -475896416189872571]\n",
      "Coords: 2 5\n",
      "[3603687201464281774, -5986465870727339544, 7239681425407305703, 173614890272686441]\n",
      "Coords: 3 5\n",
      "[-475896416189872571, -3057123862777643467, 6720542279150176894, -9062865736373944103]\n",
      "Coords: 4 5\n",
      "[-6749031487723130569, -6749031487723130569, -6749031487723130569, -6749031487723130569]\n",
      "Coords: 5 5\n",
      "[-5986465870727339544, 7239681425407305703, 173614890272686441, 3603687201464281774]\n",
      "Coords: 6 5\n",
      "[7931769263439198602, 7931769263439198602, 7931769263439198602, 7931769263439198602]\n",
      "Coords: 7 5\n",
      "[173614890272686441, 3603687201464281774, -5986465870727339544, 7239681425407305703]\n",
      "Coords: 0 6\n",
      "[-6749031487723130569, -6749031487723130569, -6749031487723130569, -6749031487723130569]\n",
      "Coords: 1 6\n",
      "[6720542279150176894, -9062865736373944103, -475896416189872571, -3057123862777643467]\n",
      "Coords: 2 6\n",
      "[7239681425407305703, 173614890272686441, 3603687201464281774, -5986465870727339544]\n",
      "Coords: 3 6\n",
      "[-9062865736373944103, -475896416189872571, -3057123862777643467, 6720542279150176894]\n",
      "Coords: 4 6\n",
      "[-6749031487723130569, -6749031487723130569, -6749031487723130569, -6749031487723130569]\n",
      "Coords: 5 6\n",
      "[6720542279150176894, -9062865736373944103, -475896416189872571, -3057123862777643467]\n",
      "Coords: 6 6\n",
      "[7239681425407305703, 173614890272686441, 3603687201464281774, -5986465870727339544]\n",
      "Coords: 7 6\n",
      "[-9062865736373944103, -475896416189872571, -3057123862777643467, 6720542279150176894]\n"
     ]
    }
   ],
   "source": [
    "tile_size = 16\n",
    "tls = tileset(source)\n",
    "\n",
    "tiles = {}\n",
    "hashes = []\n",
    "\n",
    "src_arr = np.zeros((int(source.shape[0]/tile_size),int(source.shape[1]/tile_size)),dtype=np.int32)\n",
    "\n",
    "for y in range(int(source.shape[0]/tile_size)):\n",
    "    for x in range(int(source.shape[1]/tile_size)):\n",
    "        print(\"Coords:\",x,y)\n",
    "        hs = allHashes(tls(x,y))\n",
    "        print(hs)\n",
    "        \n",
    "        if len(set.intersection(set(hs),set(tiles.keys())))==0:\n",
    "            for img in allRots(tls(x,y)):\n",
    "                h = hash(str(img))\n",
    "                tiles[h] = img\n",
    "                hashes.append(h)\n",
    "        \n",
    "        src_arr[y,x] = hashes.index(hash(str(tls(x,y))))"
   ]
  },
  {
   "cell_type": "code",
   "execution_count": 14,
   "metadata": {},
   "outputs": [
    {
     "data": {
      "text/plain": [
       "20"
      ]
     },
     "execution_count": 14,
     "metadata": {},
     "output_type": "execute_result"
    }
   ],
   "source": [
    "len(hashes)"
   ]
  },
  {
   "cell_type": "code",
   "execution_count": 15,
   "metadata": {},
   "outputs": [
    {
     "data": {
      "text/plain": [
       "array([[ 0,  0,  0,  0,  0,  0,  0,  0],\n",
       "       [ 0,  4,  8,  8,  8,  7,  0,  0],\n",
       "       [ 0,  5, 10, 12, 13,  6,  0,  0],\n",
       "       [ 0,  0,  0,  5,  6,  0,  0,  0],\n",
       "       [ 0,  0,  0,  0,  0,  4,  8,  7],\n",
       "       [ 0,  4,  8,  7,  0,  9, 16, 11],\n",
       "       [ 0,  5, 10,  6,  0,  5, 10,  6]], dtype=int32)"
      ]
     },
     "execution_count": 15,
     "metadata": {},
     "output_type": "execute_result"
    }
   ],
   "source": [
    "src_arr"
   ]
  },
  {
   "cell_type": "code",
   "execution_count": 51,
   "metadata": {},
   "outputs": [],
   "source": [
    "def visualizer(tiles, hashes):\n",
    "    def visualize(arr, manual=False):\n",
    "        x_sz = arr.shape[1]\n",
    "        y_sz = arr.shape[0]\n",
    "        show_image(np.hstack([np.vstack([tiles[hashes[int(arr[y,x])]] for y in range(y_sz)]) for x in range(x_sz)]),manual=manual)\n",
    "    \n",
    "    return visualize"
   ]
  },
  {
   "cell_type": "code",
   "execution_count": 52,
   "metadata": {},
   "outputs": [
    {
     "data": {
      "image/png": "[encoded data removed]",
      "text/plain": [
       "<Figure size 432x288 with 1 Axes>"
      ]
     },
     "metadata": {},
     "output_type": "display_data"
    }
   ],
   "source": [
    "visualize = visualizer(tiles,hashes)\n",
    "visualize(src_arr)"
   ]
  },
  {
   "cell_type": "code",
   "execution_count": 87,
   "metadata": {
    "scrolled": false
   },
   "outputs": [
    {
     "data": {
      "image/png": "[encoded data removed]",
      "text/plain": [
       "<Figure size 576x504 with 56 Axes>"
      ]
     },
     "metadata": {},
     "output_type": "display_data"
    }
   ],
   "source": [
    "neighbors = []\n",
    "\n",
    "plt.figure(figsize=(8,7))\n",
    "for y in range(src_arr.shape[0]):\n",
    "    for x in range(src_arr.shape[1]):\n",
    "        plt.subplot(src_arr.shape[0], src_arr.shape[1], y*src_arr.shape[1]+x+1)\n",
    "        plt.tick_params(labelleft=False, labeltop=False, labelright=False, labelbottom=False)\n",
    "        arr = np.array([\n",
    "          [0,                                src_arr[(y-1)%src_arr.shape[0],x],0],\n",
    "          [src_arr[y,(x-1)%src_arr.shape[1]],src_arr[y,x],                     src_arr[y,(x+1)%src_arr.shape[1]]],\n",
    "          [0,                                src_arr[(y+1)%src_arr.shape[0],x],0]\n",
    "        ])\n",
    "        \n",
    "        fullp = (arr // 4)*4\n",
    "        neighbors.append(arr)\n",
    "        neighbors.append(np.rot90((arr-fullp+1)%4+fullp))\n",
    "        neighbors.append(np.rot90((arr-fullp+2)%4+fullp,2))\n",
    "        neighbors.append(np.rot90((arr-fullp+3)%4+fullp,3))\n",
    "        \n",
    "        visualize(arr, manual=True)"
   ]
  },
  {
   "cell_type": "code",
   "execution_count": 88,
   "metadata": {},
   "outputs": [
    {
     "data": {
      "text/plain": [
       "224"
      ]
     },
     "execution_count": 88,
     "metadata": {},
     "output_type": "execute_result"
    }
   ],
   "source": [
    "len(neighbors)"
   ]
  },
  {
   "cell_type": "code",
   "execution_count": 91,
   "metadata": {},
   "outputs": [
    {
     "data": {
      "text/plain": [
       "[6720542279150176894,\n",
       " -475896416189872571,\n",
       " -5986465870727339544,\n",
       " 173614890272686441,\n",
       " 7239681425407305703,\n",
       " 1905920702728397196,\n",
       " 7931769263439198602,\n",
       " 3603687201464281774,\n",
       " -3057123862777643467,\n",
       " -6749031487723130569,\n",
       " -9062865736373944103,\n",
       " 279092378455277833,\n",
       " -2138353569917513492,\n",
       " 4369543295720075614]"
      ]
     },
     "execution_count": 91,
     "metadata": {},
     "output_type": "execute_result"
    }
   ],
   "source": [
    "list(tiles.keys())"
   ]
  },
  {
   "cell_type": "code",
   "execution_count": 92,
   "metadata": {},
   "outputs": [],
   "source": [
    "tileind = lambda h: list(tiles.keys()).index(h)"
   ]
  },
  {
   "cell_type": "code",
   "execution_count": 108,
   "metadata": {},
   "outputs": [],
   "source": [
    "adj = np.zeros((len(tiles.keys()), len(tiles.keys()), 4), dtype=np.uint8)\n",
    "\n",
    "for rule in neighbors:\n",
    "    ind = tileind(hashes[rule[1,1]])\n",
    "    indT = tileind(hashes[rule[0,1]])\n",
    "    indR = tileind(hashes[rule[1,2]])\n",
    "    indB = tileind(hashes[rule[2,1]])\n",
    "    indL = tileind(hashes[rule[0,1]])\n",
    "    \n",
    "    adj[ind,indT,0] = 1\n",
    "    adj[ind,indR,1] = 1\n",
    "    adj[ind,indB,2] = 1\n",
    "    adj[ind,indL,3] = 1"
   ]
  },
  {
   "cell_type": "code",
   "execution_count": 109,
   "metadata": {},
   "outputs": [
    {
     "data": {
      "text/plain": [
       "array([[0, 0, 1, 0, 0, 0, 0, 0, 1, 0, 0, 0, 1, 0],\n",
       "       [0, 0, 0, 0, 0, 0, 0, 0, 0, 1, 0, 0, 0, 0],\n",
       "       [0, 0, 1, 0, 0, 0, 0, 0, 1, 0, 0, 0, 0, 0],\n",
       "       [0, 1, 0, 1, 0, 1, 0, 0, 0, 0, 0, 0, 0, 0],\n",
       "       [0, 0, 0, 0, 0, 0, 1, 1, 0, 0, 0, 1, 0, 1],\n",
       "       [0, 0, 0, 0, 0, 0, 0, 1, 0, 0, 0, 0, 0, 1],\n",
       "       [0, 0, 0, 0, 0, 0, 0, 1, 0, 0, 0, 0, 0, 0],\n",
       "       [0, 0, 0, 0, 0, 0, 0, 0, 0, 1, 0, 0, 0, 0],\n",
       "       [0, 0, 0, 0, 0, 0, 0, 0, 0, 1, 0, 0, 0, 0],\n",
       "       [1, 0, 0, 0, 1, 0, 0, 0, 0, 1, 1, 0, 0, 0],\n",
       "       [0, 1, 0, 1, 0, 1, 0, 0, 0, 0, 0, 0, 0, 0],\n",
       "       [0, 0, 1, 0, 0, 0, 0, 0, 1, 0, 0, 0, 0, 0],\n",
       "       [0, 0, 0, 0, 0, 0, 0, 1, 0, 0, 0, 1, 0, 0],\n",
       "       [0, 1, 0, 0, 0, 0, 0, 0, 0, 0, 0, 0, 0, 0]], dtype=uint8)"
      ]
     },
     "execution_count": 109,
     "metadata": {},
     "output_type": "execute_result"
    }
   ],
   "source": [
    "adj[:,:,0]"
   ]
  },
  {
   "cell_type": "code",
   "execution_count": null,
   "metadata": {},
   "outputs": [],
   "source": []
  }
 ],
 "metadata": {
  "kernelspec": {
   "display_name": "Python 3",
   "language": "python",
   "name": "python3"
  },
  "language_info": {
   "codemirror_mode": {
    "name": "ipython",
    "version": 3
   },
   "file_extension": ".py",
   "mimetype": "text/x-python",
   "name": "python",
   "nbconvert_exporter": "python",
   "pygments_lexer": "ipython3",
   "version": "3.5.4"
  }
 },
 "nbformat": 4,
 "nbformat_minor": 2
}
