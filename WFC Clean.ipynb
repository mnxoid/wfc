{
 "cells": [
  {
   "cell_type": "code",
   "execution_count": 2,
   "metadata": {},
   "outputs": [],
   "source": [
    "import pygame\n",
    "import random\n",
    "import numpy as np\n",
    "from matplotlib import pyplot as plt\n",
    "%matplotlib inline"
   ]
  },
  {
   "cell_type": "code",
   "execution_count": 3,
   "metadata": {},
   "outputs": [],
   "source": [
    "from wfc import rules_from_image\n",
    "from wfc.helpers import show_tiles\n",
    "from wfc.game import SchrodingerSpriteGen"
   ]
  },
  {
   "cell_type": "code",
   "execution_count": 4,
   "metadata": {},
   "outputs": [],
   "source": [
    "sprite_size = 16\n",
    "tiles, hashes, rules = rules_from_image(\"wfc_tiles/source.png\", sprite_size)"
   ]
  },
  {
   "cell_type": "code",
   "execution_count": 5,
   "metadata": {},
   "outputs": [
    {
     "data": {
      "image/png": "[encoded data removed]",
      "text/plain": [
       "<Figure size 576x576 with 14 Axes>"
      ]
     },
     "metadata": {},
     "output_type": "display_data"
    }
   ],
   "source": [
    "show_tiles(hashes, tiles)"
   ]
  },
  {
   "cell_type": "code",
   "execution_count": 6,
   "metadata": {},
   "outputs": [],
   "source": [
    "size = 40\n",
    "field = [[random.randint(0,len(hashes)-1) for x in range(size)] for y in range(size)]"
   ]
  },
  {
   "cell_type": "code",
   "execution_count": 7,
   "metadata": {},
   "outputs": [],
   "source": [
    "SchrodingerSprite = SchrodingerSpriteGen(tiles, hashes, \"wfc_tiles/error.png\")"
   ]
  },
  {
   "cell_type": "code",
   "execution_count": null,
   "metadata": {},
   "outputs": [],
   "source": [
    "pygame.init()\n",
    "\n",
    "screen = pygame.display.set_mode([size*sprite_size, size*sprite_size])\n",
    "pygame.display.set_caption(\"WFC Test\")\n",
    " \n",
    "all_sprites_list = pygame.sprite.Group()\n",
    "my_sprites_list = []\n",
    "\n",
    "fld = field.copy()\n",
    "for i in range(size):\n",
    "    for j in range(size):\n",
    "        spr = SchrodingerSprite(i*sprite_size,j*sprite_size,set([fld[j][i]]))\n",
    "        #spr = SchrodingerSprite(i*sprite_size,j*sprite_size,set(range(len(sprites_rot))))\n",
    "        all_sprites_list.add(spr)\n",
    "        my_sprites_list.append(spr)\n",
    "\n",
    "def regenerate_init():\n",
    "    for x in range(size): \n",
    "        for y in range(size):\n",
    "            my_sprites_list[x+y*size].setCode(set(range(len(hashes))))\n",
    "        screen.fill(WHITE)\n",
    "        all_sprites_list.draw(screen)\n",
    "        pygame.display.flip()\n",
    "\n",
    "def apply_rules(Cc, Cx, d, debug=False):\n",
    "    if debug:\n",
    "        for c in Cc:\n",
    "            print(\"Possible candidates for \" + str(c) + \" are:\", np.where(rotRules(c//len(sprites))[c%len(sprites),d].flatten())[0].tolist() )\n",
    "    tcs = [set(np.where(rotRules(c//len(sprites))[c%len(sprites),d].flatten())[0].tolist()) for c in Cc]\n",
    "    if len(tcs)>0:\n",
    "        tc = set.union(*tcs)\n",
    "    else:\n",
    "        if debug:\n",
    "            print(\"CONFLICT\")\n",
    "        tc = set(range(len(sprites_rot)))\n",
    "    if debug:\n",
    "        print(\"Resulting candidates\", tc)\n",
    "        print(\"Intersect with\", Cx)\n",
    "    return set.intersection(Cx,tc)\n",
    "\n",
    "def collapse(x, y, debug=False):\n",
    "    if debug:\n",
    "        print(\"Called collapse with args\",x,y)\n",
    "    C = my_sprites_list[x+y*size]\n",
    "    propagation = []\n",
    "    \n",
    "    Ct = my_sprites_list[((x-1)%size+y*size)%len(my_sprites_list)]\n",
    "    if debug:\n",
    "        print(\"Top before collapse\", Ct.codes)\n",
    "    Ctc = applyRules(C.codes, Ct.codes, 0, debug)\n",
    "    if debug:\n",
    "        print(\"Final top states\", Ctc)\n",
    "    if Ct.codes != Ctc:\n",
    "        propagation.append(((x-1)%size,y))\n",
    "    Ct.setCode(Ctc)\n",
    "\n",
    "    Cr = my_sprites_list[(x+((y+1)%size)*size)%len(my_sprites_list)]\n",
    "    if debug:\n",
    "        print(\"Right before collapse\", Cr.codes)\n",
    "    Crc = applyRules(C.codes, Cr.codes, 1, debug)\n",
    "    if debug:\n",
    "        print(\"Final right states\", Crc)\n",
    "    if Cr.codes != Crc:\n",
    "        propagation.append((x,(y+1)%size))\n",
    "    Cr.setCode(Crc)\n",
    "\n",
    "    Cb = my_sprites_list[((x+1)%size+y*size)%len(my_sprites_list)]\n",
    "    if debug:\n",
    "        print(\"Bottom before collapse\", Cb.codes)\n",
    "    Cbc = applyRules(C.codes, Cb.codes, 2, debug)\n",
    "    if debug:\n",
    "        print(\"Final bottom states\", Cbc)\n",
    "    if Cb.codes != Cbc:\n",
    "        propagation.append(((x+1)%size,y))\n",
    "    Cb.setCode(Cbc)\n",
    "\n",
    "    Cl = my_sprites_list[(x+((y-1)%size)*size)%len(my_sprites_list)]\n",
    "    if debug:\n",
    "        print(\"Bottom before collapse\", Cl.codes)\n",
    "    Clc = applyRules(C.codes, Cl.codes, 3, debug)\n",
    "    if debug:\n",
    "        print(\"Final bottom states\", Clc)\n",
    "    if Cl.codes != Clc:\n",
    "        propagation.append((x,(y-1)%size))\n",
    "    Cl.setCode(Clc)\n",
    "    \n",
    "    if debug:\n",
    "        print(\"Step down in recursion\")\n",
    "        print(\"Recursive propagation :\", propagation)\n",
    "    for z in propagation:\n",
    "        collapse(z[0], z[1], debug)\n",
    "    if debug:\n",
    "        print(\"Step out of recursion\")\n",
    "\n",
    "    \n",
    "def fullCollapse(debug=False):\n",
    "    entropy = np.array([len(C.codes) for C in my_sprites_list])\n",
    "    while entropy.max() > 1:\n",
    "        if debug:\n",
    "            print(\"Maximum entropy:\",entropy.max())\n",
    "        emin = entropy[entropy>1].min()\n",
    "        if debug:\n",
    "            print(\"Entropy minimum:\", emin)\n",
    "        pos = np.where(entropy==emin)[0][0]\n",
    "        if debug:\n",
    "            print(\"Collapsing \", pos, \"(\",pos%size,\",\",pos//size,\")\")\n",
    "        C = my_sprites_list[pos]\n",
    "        C.setCode(set([list(C.codes)[random.randint(0,len(list(C.codes))-1)]]))\n",
    "        collapse(pos%size,pos//size, debug)\n",
    "        screen.fill(WHITE)\n",
    "        all_sprites_list.draw(screen)\n",
    "        pygame.display.flip()\n",
    "        entropy = np.array([len(C.codes) for C in my_sprites_list])\n",
    "\n",
    "    \n",
    "#all_sprites_list.add(player)\n",
    "done = False\n",
    "\n",
    "clock = pygame.time.Clock()\n",
    "\n",
    "code_trace = []\n",
    "\n",
    "while not done:\n",
    " \n",
    "    for event in pygame.event.get():\n",
    "        try:\n",
    "            if event.type == pygame.QUIT:\n",
    "                done = True\n",
    "\n",
    "            elif event.type == pygame.KEYDOWN:\n",
    "                if event.key == pygame.K_g:\n",
    "                    regenerate_sch()\n",
    "                elif event.key == pygame.K_s:\n",
    "                    regenerate_sample()\n",
    "                elif event.key == pygame.K_r:\n",
    "                    regenerate_init()\n",
    "                elif event.key == pygame.K_f:\n",
    "                    fullCollapse()\n",
    "                else:\n",
    "                    done = True\n",
    "            \n",
    "            elif event.type == pygame.MOUSEBUTTONUP:\n",
    "                pos = pygame.mouse.get_pos()\n",
    "                y = pos[0] // sprite_size\n",
    "                x = pos[1] // sprite_size\n",
    "                print(\"------------------------------\")\n",
    "                print(\"coords: \" + str([y,x]))\n",
    "                C = my_sprites_list[x+y*size]\n",
    "                print(\"Collapsing from\", C.codes)\n",
    "                if event.button==1:\n",
    "                    C.setCode(set([list(C.codes)[random.randint(0,len(list(C.codes))-1)]]))\n",
    "                    print(\"Collapse result:\", C.codes)\n",
    "                    code_trace = code_trace + list(C.codes)\n",
    "                    collapse(x,y)\n",
    "                elif 0 in C.codes:\n",
    "                    C.setCode(set([0]))\n",
    "                    print(\"Collapse result:\", C.codes)\n",
    "                    code_trace = code_trace + list(C.codes)\n",
    "                    collapse(x,y)\n",
    "                else:\n",
    "                    print(\"Blank collapse impossible\")\n",
    "                \n",
    "\n",
    "    # -- Draw everything\n",
    "\n",
    "            # Clear screen\n",
    "            screen.fill(WHITE)\n",
    "            # Draw sprites\n",
    "            all_sprites_list.draw(screen)\n",
    "            # Flip screen\n",
    "            pygame.display.flip()    \n",
    "        except Exception as e:\n",
    "            print(\"error: \" + str(e))\n",
    "            break\n",
    " \n",
    "    # Pause\n",
    "    clock.tick(40)\n",
    "    \n",
    "\n",
    "pygame.quit()"
   ]
  },
  {
   "cell_type": "code",
   "execution_count": 8,
   "metadata": {},
   "outputs": [
    {
     "data": {
      "text/plain": [
       "(14, 14, 4)"
      ]
     },
     "execution_count": 8,
     "metadata": {},
     "output_type": "execute_result"
    }
   ],
   "source": [
    "rules.shape"
   ]
  },
  {
   "cell_type": "code",
   "execution_count": null,
   "metadata": {},
   "outputs": [],
   "source": []
  }
 ],
 "metadata": {
  "kernelspec": {
   "display_name": "Python 3",
   "language": "python",
   "name": "python3"
  },
  "language_info": {
   "codemirror_mode": {
    "name": "ipython",
    "version": 3
   },
   "file_extension": ".py",
   "mimetype": "text/x-python",
   "name": "python",
   "nbconvert_exporter": "python",
   "pygments_lexer": "ipython3",
   "version": "3.5.4"
  }
 },
 "nbformat": 4,
 "nbformat_minor": 2
}
